{
 "cells": [
  {
   "cell_type": "markdown",
   "id": "c419d621-74e0-485c-bdda-a310227ce264",
   "metadata": {},
   "source": [
    "Creando Endpoint de Analisis de sentimiento"
   ]
  },
  {
   "cell_type": "code",
   "execution_count": 1,
   "id": "a7fb2307-5fb1-4fb4-8d2c-17b7e80bc08d",
   "metadata": {
    "tags": []
   },
   "outputs": [],
   "source": [
    "import os, sys\n",
    "import json\n",
    "\n",
    "ENDPOINT_ID = os.getenv(\"ENDPOINT_CONFIG_ID\") # Identificador unico\n",
    "ENDPOINT_COMPANY = os.getenv(\"ENDPOINT_CONFIG_COMPANY\", \"Empresa\") # Nombre de la compañia\n",
    "ENDPOINT_COMPANY_ABBR = os.getenv(\"ENDPOINT_CONFIG_COMPANY_ABBR\", \"E\") # Abreviatura de la compañia\n",
    "\n",
    "ENDPOINT_DISPLAY_NAME = os.getenv(\"ENDPOINT_DISPLAY_NAME\", \"myENDPOINT\")\n",
    "ENDPOINT_DESCRIPTION = os.getenv(\"ENDPOINT_DESCRIPTION\", \"Example of my first end-point\")\n",
    "\n",
    "ENDPOINT_SERVICE_ACCOUNT = os.getenv(\"ENDPOINT_SERVICE_ACCOUNT\") # Cuenta de Servicio que se asignara al ENDPOINT\n",
    "ENDPOINT_PROJECT_ID = os.getenv(\"ENDPOINT_PROJECT_ID\", \"proyectodatapath1\") # Proyecto GCP donde se ejecuta el ENDPOINT\n",
    "ENDPOINT_REGION = os.getenv(\"ENDPOINT_REGION\", \"us-central1\") # Region\n",
    "ENDPOINT_BUCKET = os.getenv(\"ENDPOINT_BUCKET\", \"bucketdatapath\") # Bucket donde se guardaran artefactos del despliegue\n",
    "\n",
    "ENDPOINT_PATH_ROOT = os.getenv(\"ENDPOINT_PATH_ROOT\", \"endpoint\")\n",
    "ENDPOINT_MODEL_PATH_ROOT = os.getenv(\"ENDPOINT_MODEL_PATH_ROOT\", \"endpoint/model\")"
   ]
  },
  {
   "cell_type": "code",
   "execution_count": 2,
   "id": "0a246a1a-fd01-413d-aa99-5e6df1118036",
   "metadata": {
    "tags": []
   },
   "outputs": [],
   "source": [
    "PROJECT_ID          = ENDPOINT_PROJECT_ID\n",
    "REGION              = ENDPOINT_REGION\n",
    "#BUCKET_NAME         = \"gs://\" + ENDPOINT_BUCKET \n",
    "BUCKET_NAME         = ENDPOINT_BUCKET\n",
    "MODEL_NAME          = 'sentimientos.h5'\n",
    "SAVED_MODEL_DIR    = 'saved_model'\n",
    "SERVICE_ACCOUNT     = ENDPOINT_SERVICE_ACCOUNT"
   ]
  },
  {
   "cell_type": "code",
   "execution_count": 3,
   "id": "861cdbe2-39e9-40c2-95d1-a972f9013eb2",
   "metadata": {
    "tags": []
   },
   "outputs": [
    {
     "name": "stdout",
     "output_type": "stream",
     "text": [
      "endpoint/model/saved_model\n"
     ]
    }
   ],
   "source": [
    "#ENDPOINT_ROOT = os.path.join(BUCKET_NAME, ENDPOINT_PATH_ROOT)\n",
    "ENDPOINT_MODEL_ROOT = os.path.join(ENDPOINT_MODEL_PATH_ROOT, MODEL_NAME)\n",
    "ENDPOINT_SAVED_MODEL_ROOT = os.path.join(ENDPOINT_MODEL_PATH_ROOT, SAVED_MODEL_DIR)\n",
    "#print(ENDPOINT_ROOT)\n",
    "print(ENDPOINT_SAVED_MODEL_ROOT)"
   ]
  },
  {
   "cell_type": "code",
   "execution_count": 5,
   "id": "b3dbecf2-0a80-405e-bc3b-679a71c80575",
   "metadata": {
    "tags": []
   },
   "outputs": [
    {
     "name": "stdout",
     "output_type": "stream",
     "text": [
      "Requirement already satisfied: tensorflow in /opt/conda/lib/python3.10/site-packages (2.15.0)\n",
      "Requirement already satisfied: absl-py>=1.0.0 in ./.local/lib/python3.10/site-packages (from tensorflow) (1.4.0)\n",
      "Requirement already satisfied: astunparse>=1.6.0 in /opt/conda/lib/python3.10/site-packages (from tensorflow) (1.6.3)\n",
      "Requirement already satisfied: flatbuffers>=23.5.26 in /opt/conda/lib/python3.10/site-packages (from tensorflow) (23.5.26)\n",
      "Requirement already satisfied: gast!=0.5.0,!=0.5.1,!=0.5.2,>=0.2.1 in /opt/conda/lib/python3.10/site-packages (from tensorflow) (0.5.4)\n",
      "Requirement already satisfied: google-pasta>=0.1.1 in /opt/conda/lib/python3.10/site-packages (from tensorflow) (0.2.0)\n",
      "Requirement already satisfied: h5py>=2.9.0 in /opt/conda/lib/python3.10/site-packages (from tensorflow) (3.10.0)\n",
      "Requirement already satisfied: libclang>=13.0.0 in /opt/conda/lib/python3.10/site-packages (from tensorflow) (16.0.6)\n",
      "Requirement already satisfied: ml-dtypes~=0.2.0 in /opt/conda/lib/python3.10/site-packages (from tensorflow) (0.2.0)\n",
      "Requirement already satisfied: numpy<2.0.0,>=1.23.5 in /opt/conda/lib/python3.10/site-packages (from tensorflow) (1.26.2)\n",
      "Requirement already satisfied: opt-einsum>=2.3.2 in /opt/conda/lib/python3.10/site-packages (from tensorflow) (3.3.0)\n",
      "Requirement already satisfied: packaging in ./.local/lib/python3.10/site-packages (from tensorflow) (21.3)\n",
      "Requirement already satisfied: protobuf!=4.21.0,!=4.21.1,!=4.21.2,!=4.21.3,!=4.21.4,!=4.21.5,<5.0.0dev,>=3.20.3 in /opt/conda/lib/python3.10/site-packages (from tensorflow) (3.20.3)\n",
      "Requirement already satisfied: setuptools in /opt/conda/lib/python3.10/site-packages (from tensorflow) (69.0.0)\n",
      "Requirement already satisfied: six>=1.12.0 in /opt/conda/lib/python3.10/site-packages (from tensorflow) (1.16.0)\n",
      "Requirement already satisfied: termcolor>=1.1.0 in ./.local/lib/python3.10/site-packages (from tensorflow) (2.3.0)\n",
      "Requirement already satisfied: typing-extensions>=3.6.6 in /opt/conda/lib/python3.10/site-packages (from tensorflow) (4.8.0)\n",
      "Requirement already satisfied: wrapt<1.15,>=1.11.0 in /opt/conda/lib/python3.10/site-packages (from tensorflow) (1.14.1)\n",
      "Requirement already satisfied: tensorflow-io-gcs-filesystem>=0.23.1 in /opt/conda/lib/python3.10/site-packages (from tensorflow) (0.34.0)\n",
      "Requirement already satisfied: grpcio<2.0,>=1.24.3 in /opt/conda/lib/python3.10/site-packages (from tensorflow) (1.59.2)\n",
      "Requirement already satisfied: tensorboard<2.16,>=2.15 in /opt/conda/lib/python3.10/site-packages (from tensorflow) (2.15.1)\n",
      "Requirement already satisfied: tensorflow-estimator<2.16,>=2.15.0 in /opt/conda/lib/python3.10/site-packages (from tensorflow) (2.15.0)\n",
      "Requirement already satisfied: keras<2.16,>=2.15.0 in /opt/conda/lib/python3.10/site-packages (from tensorflow) (2.15.0)\n",
      "Requirement already satisfied: wheel<1.0,>=0.23.0 in /opt/conda/lib/python3.10/site-packages (from astunparse>=1.6.0->tensorflow) (0.41.3)\n",
      "Requirement already satisfied: google-auth<3,>=1.6.3 in /opt/conda/lib/python3.10/site-packages (from tensorboard<2.16,>=2.15->tensorflow) (2.23.4)\n",
      "Requirement already satisfied: google-auth-oauthlib<2,>=0.5 in /opt/conda/lib/python3.10/site-packages (from tensorboard<2.16,>=2.15->tensorflow) (1.1.0)\n",
      "Requirement already satisfied: markdown>=2.6.8 in /opt/conda/lib/python3.10/site-packages (from tensorboard<2.16,>=2.15->tensorflow) (3.5.1)\n",
      "Requirement already satisfied: requests<3,>=2.21.0 in /opt/conda/lib/python3.10/site-packages (from tensorboard<2.16,>=2.15->tensorflow) (2.31.0)\n",
      "Requirement already satisfied: tensorboard-data-server<0.8.0,>=0.7.0 in /opt/conda/lib/python3.10/site-packages (from tensorboard<2.16,>=2.15->tensorflow) (0.7.2)\n",
      "Requirement already satisfied: werkzeug>=1.0.1 in /opt/conda/lib/python3.10/site-packages (from tensorboard<2.16,>=2.15->tensorflow) (3.0.1)\n",
      "Requirement already satisfied: pyparsing!=3.0.5,>=2.0.2 in /opt/conda/lib/python3.10/site-packages (from packaging->tensorflow) (3.1.1)\n",
      "Requirement already satisfied: cachetools<6.0,>=2.0.0 in /opt/conda/lib/python3.10/site-packages (from google-auth<3,>=1.6.3->tensorboard<2.16,>=2.15->tensorflow) (5.3.2)\n",
      "Requirement already satisfied: pyasn1-modules>=0.2.1 in /opt/conda/lib/python3.10/site-packages (from google-auth<3,>=1.6.3->tensorboard<2.16,>=2.15->tensorflow) (0.3.0)\n",
      "Requirement already satisfied: rsa<5,>=3.1.4 in /opt/conda/lib/python3.10/site-packages (from google-auth<3,>=1.6.3->tensorboard<2.16,>=2.15->tensorflow) (4.9)\n",
      "Requirement already satisfied: requests-oauthlib>=0.7.0 in /opt/conda/lib/python3.10/site-packages (from google-auth-oauthlib<2,>=0.5->tensorboard<2.16,>=2.15->tensorflow) (1.3.1)\n",
      "Requirement already satisfied: charset-normalizer<4,>=2 in /opt/conda/lib/python3.10/site-packages (from requests<3,>=2.21.0->tensorboard<2.16,>=2.15->tensorflow) (3.3.2)\n",
      "Requirement already satisfied: idna<4,>=2.5 in /opt/conda/lib/python3.10/site-packages (from requests<3,>=2.21.0->tensorboard<2.16,>=2.15->tensorflow) (3.4)\n",
      "Requirement already satisfied: urllib3<3,>=1.21.1 in /opt/conda/lib/python3.10/site-packages (from requests<3,>=2.21.0->tensorboard<2.16,>=2.15->tensorflow) (1.26.18)\n",
      "Requirement already satisfied: certifi>=2017.4.17 in /opt/conda/lib/python3.10/site-packages (from requests<3,>=2.21.0->tensorboard<2.16,>=2.15->tensorflow) (2023.7.22)\n",
      "Requirement already satisfied: MarkupSafe>=2.1.1 in /opt/conda/lib/python3.10/site-packages (from werkzeug>=1.0.1->tensorboard<2.16,>=2.15->tensorflow) (2.1.3)\n",
      "Requirement already satisfied: pyasn1<0.6.0,>=0.4.6 in /opt/conda/lib/python3.10/site-packages (from pyasn1-modules>=0.2.1->google-auth<3,>=1.6.3->tensorboard<2.16,>=2.15->tensorflow) (0.5.0)\n",
      "Requirement already satisfied: oauthlib>=3.0.0 in /opt/conda/lib/python3.10/site-packages (from requests-oauthlib>=0.7.0->google-auth-oauthlib<2,>=0.5->tensorboard<2.16,>=2.15->tensorflow) (3.2.2)\n"
     ]
    }
   ],
   "source": [
    "!pip install tensorflow"
   ]
  },
  {
   "cell_type": "code",
   "execution_count": 9,
   "id": "c8a4b7f2-6376-457c-b117-12dae2a13dfa",
   "metadata": {
    "tags": []
   },
   "outputs": [],
   "source": [
    "import tensorflow as tf\n",
    "from tensorflow import keras"
   ]
  },
  {
   "cell_type": "code",
   "execution_count": 10,
   "id": "8523fbc6-99de-482e-820d-d3305db3a22d",
   "metadata": {
    "tags": []
   },
   "outputs": [],
   "source": [
    "# Cargar el modelo\n",
    "from tensorflow.keras.models import load_model\n",
    "model = load_model('sentimientos.h5')"
   ]
  },
  {
   "cell_type": "code",
   "execution_count": 11,
   "id": "0e52d449-5481-468a-bef0-f0d9e55e043c",
   "metadata": {
    "tags": []
   },
   "outputs": [
    {
     "name": "stdout",
     "output_type": "stream",
     "text": [
      "INFO:tensorflow:Assets written to: ./saved_model/assets\n"
     ]
    },
    {
     "name": "stderr",
     "output_type": "stream",
     "text": [
      "INFO:tensorflow:Assets written to: ./saved_model/assets\n"
     ]
    }
   ],
   "source": [
    "# Exportar el modelo a saved_model\n",
    "\n",
    "tf.saved_model.save(model, './saved_model')"
   ]
  },
  {
   "cell_type": "code",
   "execution_count": 12,
   "id": "2fdc38f8-82d2-4c83-ba1c-8ace7b164f49",
   "metadata": {
    "tags": []
   },
   "outputs": [],
   "source": [
    "from google.cloud import storage\n",
    "\n",
    "def upload_to_gcs(bucket_name, local_file_path, destination_blob_name):\n",
    "    storage_client = storage.Client()\n",
    "    bucket = storage_client.bucket(bucket_name)\n",
    "    blob = bucket.blob(destination_blob_name)\n",
    "    blob.upload_from_filename(local_file_path)\n",
    "\n",
    "# Especifica el nombre del bucket de GCS y los nombres de archivo\n",
    "bucket_name = BUCKET_NAME#ENDPOINT_MODEL_ROOT#'nombre_del_bucket'\n",
    "local_file_path = MODEL_NAME\n",
    "destination_blob_name = ENDPOINT_MODEL_ROOT\n",
    "\n",
    "# Sube el archivo al bucket de GCS\n",
    "upload_to_gcs(bucket_name, local_file_path, destination_blob_name)"
   ]
  },
  {
   "cell_type": "code",
   "execution_count": 13,
   "id": "7ca16cca-8a19-439a-871d-66b1c4000e06",
   "metadata": {
    "tags": []
   },
   "outputs": [
    {
     "name": "stdout",
     "output_type": "stream",
     "text": [
      "Subido: saved_model/fingerprint.pb -> gs://bucketdatapath/endpoint/model/saved_model/fingerprint.pb\n",
      "Subido: saved_model/saved_model.pb -> gs://bucketdatapath/endpoint/model/saved_model/saved_model.pb\n",
      "Subido: saved_model/variables/variables.data-00000-of-00001 -> gs://bucketdatapath/endpoint/model/saved_model/variables/variables.data-00000-of-00001\n",
      "Subido: saved_model/variables/variables.index -> gs://bucketdatapath/endpoint/model/saved_model/variables/variables.index\n"
     ]
    }
   ],
   "source": [
    "import os\n",
    "from google.cloud import storage\n",
    "\n",
    "def upload_directory_to_gcs(bucket_name, local_directory, destination_directory):\n",
    "    storage_client = storage.Client()\n",
    "    bucket = storage_client.bucket(bucket_name)\n",
    "\n",
    "    for root, dirs, files in os.walk(local_directory):\n",
    "        for file in files:\n",
    "            local_path = os.path.join(root, file)\n",
    "            destination_path = os.path.join(destination_directory, os.path.relpath(local_path, local_directory))\n",
    "            blob = bucket.blob(destination_path)\n",
    "            blob.upload_from_filename(local_path)\n",
    "            print(f'Subido: {local_path} -> gs://{bucket_name}/{destination_path}')\n",
    "\n",
    "# Especifica el nombre del bucket de GCS y los directorios local y de destino\n",
    "bucket_name = BUCKET_NAME\n",
    "local_directory = SAVED_MODEL_DIR\n",
    "destination_directory = ENDPOINT_SAVED_MODEL_ROOT\n",
    "\n",
    "# Sube el directorio al bucket de GCS\n",
    "upload_directory_to_gcs(bucket_name, local_directory, destination_directory)\n"
   ]
  },
  {
   "cell_type": "code",
   "execution_count": 14,
   "id": "3ac8ee9e-f115-456a-bd65-0a3f2b7241bb",
   "metadata": {
    "tags": []
   },
   "outputs": [
    {
     "name": "stdout",
     "output_type": "stream",
     "text": [
      "Requirement already satisfied: google-cloud-aiplatform in ./.local/lib/python3.10/site-packages (1.0.0)\n",
      "Collecting google-cloud-aiplatform\n",
      "  Using cached google_cloud_aiplatform-1.36.4-py2.py3-none-any.whl.metadata (27 kB)\n",
      "Requirement already satisfied: shapely<2 in /opt/conda/lib/python3.10/site-packages (1.8.5.post1)\n",
      "Requirement already satisfied: google-api-core!=2.0.*,!=2.1.*,!=2.2.*,!=2.3.*,!=2.4.*,!=2.5.*,!=2.6.*,!=2.7.*,<3.0.0dev,>=1.32.0 in /opt/conda/lib/python3.10/site-packages (from google-api-core[grpc]!=2.0.*,!=2.1.*,!=2.2.*,!=2.3.*,!=2.4.*,!=2.5.*,!=2.6.*,!=2.7.*,<3.0.0dev,>=1.32.0->google-cloud-aiplatform) (1.34.0)\n",
      "Requirement already satisfied: proto-plus<2.0.0dev,>=1.22.0 in /opt/conda/lib/python3.10/site-packages (from google-cloud-aiplatform) (1.22.3)\n",
      "Requirement already satisfied: protobuf!=3.20.0,!=3.20.1,!=4.21.0,!=4.21.1,!=4.21.2,!=4.21.3,!=4.21.4,!=4.21.5,<5.0.0dev,>=3.19.5 in /opt/conda/lib/python3.10/site-packages (from google-cloud-aiplatform) (3.20.3)\n",
      "Requirement already satisfied: packaging>=14.3 in ./.local/lib/python3.10/site-packages (from google-cloud-aiplatform) (21.3)\n",
      "Requirement already satisfied: google-cloud-storage<3.0.0dev,>=1.32.0 in ./.local/lib/python3.10/site-packages (from google-cloud-aiplatform) (1.44.0)\n",
      "Requirement already satisfied: google-cloud-bigquery<4.0.0dev,>=1.15.0 in ./.local/lib/python3.10/site-packages (from google-cloud-aiplatform) (2.34.4)\n",
      "Requirement already satisfied: google-cloud-resource-manager<3.0.0dev,>=1.3.3 in /opt/conda/lib/python3.10/site-packages (from google-cloud-aiplatform) (1.10.4)\n",
      "Requirement already satisfied: googleapis-common-protos<2.0dev,>=1.56.2 in /opt/conda/lib/python3.10/site-packages (from google-api-core!=2.0.*,!=2.1.*,!=2.2.*,!=2.3.*,!=2.4.*,!=2.5.*,!=2.6.*,!=2.7.*,<3.0.0dev,>=1.32.0->google-api-core[grpc]!=2.0.*,!=2.1.*,!=2.2.*,!=2.3.*,!=2.4.*,!=2.5.*,!=2.6.*,!=2.7.*,<3.0.0dev,>=1.32.0->google-cloud-aiplatform) (1.61.0)\n",
      "Requirement already satisfied: google-auth<3.0dev,>=1.25.0 in /opt/conda/lib/python3.10/site-packages (from google-api-core!=2.0.*,!=2.1.*,!=2.2.*,!=2.3.*,!=2.4.*,!=2.5.*,!=2.6.*,!=2.7.*,<3.0.0dev,>=1.32.0->google-api-core[grpc]!=2.0.*,!=2.1.*,!=2.2.*,!=2.3.*,!=2.4.*,!=2.5.*,!=2.6.*,!=2.7.*,<3.0.0dev,>=1.32.0->google-cloud-aiplatform) (2.23.4)\n",
      "Requirement already satisfied: requests<3.0.0dev,>=2.18.0 in /opt/conda/lib/python3.10/site-packages (from google-api-core!=2.0.*,!=2.1.*,!=2.2.*,!=2.3.*,!=2.4.*,!=2.5.*,!=2.6.*,!=2.7.*,<3.0.0dev,>=1.32.0->google-api-core[grpc]!=2.0.*,!=2.1.*,!=2.2.*,!=2.3.*,!=2.4.*,!=2.5.*,!=2.6.*,!=2.7.*,<3.0.0dev,>=1.32.0->google-cloud-aiplatform) (2.31.0)\n",
      "Requirement already satisfied: grpcio<2.0dev,>=1.33.2 in /opt/conda/lib/python3.10/site-packages (from google-api-core[grpc]!=2.0.*,!=2.1.*,!=2.2.*,!=2.3.*,!=2.4.*,!=2.5.*,!=2.6.*,!=2.7.*,<3.0.0dev,>=1.32.0->google-cloud-aiplatform) (1.59.2)\n",
      "Requirement already satisfied: grpcio-status<2.0dev,>=1.33.2 in /opt/conda/lib/python3.10/site-packages (from google-api-core[grpc]!=2.0.*,!=2.1.*,!=2.2.*,!=2.3.*,!=2.4.*,!=2.5.*,!=2.6.*,!=2.7.*,<3.0.0dev,>=1.32.0->google-cloud-aiplatform) (1.48.2)\n",
      "Requirement already satisfied: google-cloud-core<3.0.0dev,>=1.4.1 in /opt/conda/lib/python3.10/site-packages (from google-cloud-bigquery<4.0.0dev,>=1.15.0->google-cloud-aiplatform) (2.3.3)\n",
      "Requirement already satisfied: google-resumable-media<3.0dev,>=0.6.0 in /opt/conda/lib/python3.10/site-packages (from google-cloud-bigquery<4.0.0dev,>=1.15.0->google-cloud-aiplatform) (2.6.0)\n",
      "Requirement already satisfied: python-dateutil<3.0dev,>=2.7.2 in /opt/conda/lib/python3.10/site-packages (from google-cloud-bigquery<4.0.0dev,>=1.15.0->google-cloud-aiplatform) (2.8.2)\n",
      "Requirement already satisfied: grpc-google-iam-v1<1.0.0dev,>=0.12.4 in /opt/conda/lib/python3.10/site-packages (from google-cloud-resource-manager<3.0.0dev,>=1.3.3->google-cloud-aiplatform) (0.12.6)\n",
      "Requirement already satisfied: six in /opt/conda/lib/python3.10/site-packages (from google-cloud-storage<3.0.0dev,>=1.32.0->google-cloud-aiplatform) (1.16.0)\n",
      "Requirement already satisfied: pyparsing!=3.0.5,>=2.0.2 in /opt/conda/lib/python3.10/site-packages (from packaging>=14.3->google-cloud-aiplatform) (3.1.1)\n",
      "Requirement already satisfied: cachetools<6.0,>=2.0.0 in /opt/conda/lib/python3.10/site-packages (from google-auth<3.0dev,>=1.25.0->google-api-core!=2.0.*,!=2.1.*,!=2.2.*,!=2.3.*,!=2.4.*,!=2.5.*,!=2.6.*,!=2.7.*,<3.0.0dev,>=1.32.0->google-api-core[grpc]!=2.0.*,!=2.1.*,!=2.2.*,!=2.3.*,!=2.4.*,!=2.5.*,!=2.6.*,!=2.7.*,<3.0.0dev,>=1.32.0->google-cloud-aiplatform) (5.3.2)\n",
      "Requirement already satisfied: pyasn1-modules>=0.2.1 in /opt/conda/lib/python3.10/site-packages (from google-auth<3.0dev,>=1.25.0->google-api-core!=2.0.*,!=2.1.*,!=2.2.*,!=2.3.*,!=2.4.*,!=2.5.*,!=2.6.*,!=2.7.*,<3.0.0dev,>=1.32.0->google-api-core[grpc]!=2.0.*,!=2.1.*,!=2.2.*,!=2.3.*,!=2.4.*,!=2.5.*,!=2.6.*,!=2.7.*,<3.0.0dev,>=1.32.0->google-cloud-aiplatform) (0.3.0)\n",
      "Requirement already satisfied: rsa<5,>=3.1.4 in /opt/conda/lib/python3.10/site-packages (from google-auth<3.0dev,>=1.25.0->google-api-core!=2.0.*,!=2.1.*,!=2.2.*,!=2.3.*,!=2.4.*,!=2.5.*,!=2.6.*,!=2.7.*,<3.0.0dev,>=1.32.0->google-api-core[grpc]!=2.0.*,!=2.1.*,!=2.2.*,!=2.3.*,!=2.4.*,!=2.5.*,!=2.6.*,!=2.7.*,<3.0.0dev,>=1.32.0->google-cloud-aiplatform) (4.9)\n",
      "Requirement already satisfied: google-crc32c<2.0dev,>=1.0 in /opt/conda/lib/python3.10/site-packages (from google-resumable-media<3.0dev,>=0.6.0->google-cloud-bigquery<4.0.0dev,>=1.15.0->google-cloud-aiplatform) (1.5.0)\n",
      "Requirement already satisfied: charset-normalizer<4,>=2 in /opt/conda/lib/python3.10/site-packages (from requests<3.0.0dev,>=2.18.0->google-api-core!=2.0.*,!=2.1.*,!=2.2.*,!=2.3.*,!=2.4.*,!=2.5.*,!=2.6.*,!=2.7.*,<3.0.0dev,>=1.32.0->google-api-core[grpc]!=2.0.*,!=2.1.*,!=2.2.*,!=2.3.*,!=2.4.*,!=2.5.*,!=2.6.*,!=2.7.*,<3.0.0dev,>=1.32.0->google-cloud-aiplatform) (3.3.2)\n",
      "Requirement already satisfied: idna<4,>=2.5 in /opt/conda/lib/python3.10/site-packages (from requests<3.0.0dev,>=2.18.0->google-api-core!=2.0.*,!=2.1.*,!=2.2.*,!=2.3.*,!=2.4.*,!=2.5.*,!=2.6.*,!=2.7.*,<3.0.0dev,>=1.32.0->google-api-core[grpc]!=2.0.*,!=2.1.*,!=2.2.*,!=2.3.*,!=2.4.*,!=2.5.*,!=2.6.*,!=2.7.*,<3.0.0dev,>=1.32.0->google-cloud-aiplatform) (3.4)\n",
      "Requirement already satisfied: urllib3<3,>=1.21.1 in /opt/conda/lib/python3.10/site-packages (from requests<3.0.0dev,>=2.18.0->google-api-core!=2.0.*,!=2.1.*,!=2.2.*,!=2.3.*,!=2.4.*,!=2.5.*,!=2.6.*,!=2.7.*,<3.0.0dev,>=1.32.0->google-api-core[grpc]!=2.0.*,!=2.1.*,!=2.2.*,!=2.3.*,!=2.4.*,!=2.5.*,!=2.6.*,!=2.7.*,<3.0.0dev,>=1.32.0->google-cloud-aiplatform) (1.26.18)\n",
      "Requirement already satisfied: certifi>=2017.4.17 in /opt/conda/lib/python3.10/site-packages (from requests<3.0.0dev,>=2.18.0->google-api-core!=2.0.*,!=2.1.*,!=2.2.*,!=2.3.*,!=2.4.*,!=2.5.*,!=2.6.*,!=2.7.*,<3.0.0dev,>=1.32.0->google-api-core[grpc]!=2.0.*,!=2.1.*,!=2.2.*,!=2.3.*,!=2.4.*,!=2.5.*,!=2.6.*,!=2.7.*,<3.0.0dev,>=1.32.0->google-cloud-aiplatform) (2023.7.22)\n",
      "Requirement already satisfied: pyasn1<0.6.0,>=0.4.6 in /opt/conda/lib/python3.10/site-packages (from pyasn1-modules>=0.2.1->google-auth<3.0dev,>=1.25.0->google-api-core!=2.0.*,!=2.1.*,!=2.2.*,!=2.3.*,!=2.4.*,!=2.5.*,!=2.6.*,!=2.7.*,<3.0.0dev,>=1.32.0->google-api-core[grpc]!=2.0.*,!=2.1.*,!=2.2.*,!=2.3.*,!=2.4.*,!=2.5.*,!=2.6.*,!=2.7.*,<3.0.0dev,>=1.32.0->google-cloud-aiplatform) (0.5.0)\n",
      "Using cached google_cloud_aiplatform-1.36.4-py2.py3-none-any.whl (3.3 MB)\n",
      "Installing collected packages: google-cloud-aiplatform\n",
      "  Attempting uninstall: google-cloud-aiplatform\n",
      "    Found existing installation: google-cloud-aiplatform 1.0.0\n",
      "    Uninstalling google-cloud-aiplatform-1.0.0:\n",
      "      Successfully uninstalled google-cloud-aiplatform-1.0.0\n",
      "Successfully installed google-cloud-aiplatform-1.36.1\n"
     ]
    }
   ],
   "source": [
    "!pip install -U google-cloud-aiplatform \"shapely<2\""
   ]
  },
  {
   "cell_type": "code",
   "execution_count": 22,
   "id": "e20f1b3c-0358-434d-ba7f-ae7d6d2a8f32",
   "metadata": {
    "tags": []
   },
   "outputs": [],
   "source": [
    "from google.cloud import aiplatform\n",
    "from typing import Optional\n",
    "\n",
    "def upload_model_sample(\n",
    "    project: str,\n",
    "    location: str,\n",
    "    display_name: str,\n",
    "    serving_container_image_uri: str,\n",
    "    artifact_uri: Optional[str] = None\n",
    "):\n",
    "\n",
    "    aiplatform.init(project=project, location=location)\n",
    "    \n",
    "    model = aiplatform.Model.upload(\n",
    "        display_name=display_name,\n",
    "        artifact_uri=artifact_uri,\n",
    "        serving_container_image_uri=serving_container_image_uri,\n",
    "    )\n",
    "    \n",
    "    model.wait()\n",
    "\n",
    "    print(model.display_name)\n",
    "    print(model.resource_name)\n",
    "    return model"
   ]
  },
  {
   "cell_type": "code",
   "execution_count": 19,
   "id": "5a1654e1-7298-46c7-9212-b3a1be1d8d81",
   "metadata": {
    "tags": []
   },
   "outputs": [
    {
     "name": "stdout",
     "output_type": "stream",
     "text": [
      "endpoint/model/saved_model\n"
     ]
    }
   ],
   "source": [
    "print(destination_directory)"
   ]
  },
  {
   "cell_type": "code",
   "execution_count": 16,
   "id": "e68200c8-4455-4046-8770-479c2776bd46",
   "metadata": {
    "tags": []
   },
   "outputs": [
    {
     "name": "stdout",
     "output_type": "stream",
     "text": [
      "gs://bucketdatapath/endpoint/model/saved_model\n"
     ]
    }
   ],
   "source": [
    "#BUCKET_NAME         = \"gs://\" + ENDPOINT_BUCKET \n",
    "ARTIFACT_URI           = \"gs://\" + os.path.join(ENDPOINT_BUCKET, destination_directory)\n",
    "print(ARTIFACT_URI)"
   ]
  },
  {
   "cell_type": "code",
   "execution_count": 24,
   "id": "c7ddfbbb-7604-4926-96d8-0f7d0bbc9e52",
   "metadata": {
    "tags": []
   },
   "outputs": [
    {
     "name": "stderr",
     "output_type": "stream",
     "text": [
      "INFO:google.cloud.aiplatform.models:Creating Model\n",
      "INFO:google.cloud.aiplatform.models:Create Model backing LRO: projects/759220441436/locations/us-central1/models/1066805554896175104/operations/384830650269564928\n",
      "INFO:google.cloud.aiplatform.models:Model created. Resource name: projects/759220441436/locations/us-central1/models/1066805554896175104@1\n",
      "INFO:google.cloud.aiplatform.models:To use this Model in another session:\n",
      "INFO:google.cloud.aiplatform.models:model = aiplatform.Model('projects/759220441436/locations/us-central1/models/1066805554896175104@1')\n"
     ]
    },
    {
     "name": "stdout",
     "output_type": "stream",
     "text": [
      "sentimientos_datapath\n",
      "projects/759220441436/locations/us-central1/models/1066805554896175104\n"
     ]
    }
   ],
   "source": [
    "#upload_model_sample(project= PROJECT_ID, location = REGION, display_name= 'keras_registry', serving_container_image_uri = destination_directory, artifact_uri = 'us-docker.pkg.dev/vertex-ai/prediction/tf2-cpu.2-11:latest')\n",
    "#'gcr.io/cloud-aiplatform/prediction/tf2-cpu.2-5:latest'\n",
    "\n",
    "keras_model_registry = upload_model_sample(\n",
    "    project=PROJECT_ID,\n",
    "    location=REGION,\n",
    "    display_name='sentimientos_datapath',\n",
    "    serving_container_image_uri='us-docker.pkg.dev/vertex-ai/prediction/tf2-cpu.2-11:latest', # URI de la imagen del contenedor\n",
    "    artifact_uri=ARTIFACT_URI # Cambia esto a la ruta correcta de GCS\n",
    ")"
   ]
  },
  {
   "cell_type": "code",
   "execution_count": 25,
   "id": "c56d9afc-cc40-4315-84f6-2b8e2f2bd825",
   "metadata": {
    "tags": []
   },
   "outputs": [],
   "source": [
    "name_model_registry = keras_model_registry.name"
   ]
  },
  {
   "cell_type": "code",
   "execution_count": 26,
   "id": "199db62a-b7ae-4155-9e4a-2f9fecb61ab7",
   "metadata": {
    "tags": []
   },
   "outputs": [
    {
     "name": "stdout",
     "output_type": "stream",
     "text": [
      "1066805554896175104\n"
     ]
    }
   ],
   "source": [
    "print(name_model_registry)"
   ]
  },
  {
   "cell_type": "code",
   "execution_count": 27,
   "id": "0b90c145-93c6-43d4-9ddb-844cb1214f8a",
   "metadata": {
    "tags": []
   },
   "outputs": [],
   "source": [
    "def create_endpoint_sample(\n",
    "    project: str,\n",
    "    display_name: str,\n",
    "    location: str,\n",
    "):\n",
    "    aiplatform.init(project=project, location=location)\n",
    "\n",
    "    endpoint = aiplatform.Endpoint.create(\n",
    "        display_name=display_name,\n",
    "        project=project,\n",
    "        location=location,\n",
    "    )\n",
    "\n",
    "    print(endpoint.display_name)\n",
    "    print(endpoint.resource_name)\n",
    "    return endpoint"
   ]
  },
  {
   "cell_type": "code",
   "execution_count": 28,
   "id": "5fe379c0-b054-45f2-be0e-bdf6497f0723",
   "metadata": {
    "tags": []
   },
   "outputs": [
    {
     "name": "stderr",
     "output_type": "stream",
     "text": [
      "INFO:google.cloud.aiplatform.models:Creating Endpoint\n",
      "INFO:google.cloud.aiplatform.models:Create Endpoint backing LRO: projects/759220441436/locations/us-central1/endpoints/1759062473790455808/operations/3771537570052177920\n",
      "INFO:google.cloud.aiplatform.models:Endpoint created. Resource name: projects/759220441436/locations/us-central1/endpoints/1759062473790455808\n",
      "INFO:google.cloud.aiplatform.models:To use this Endpoint in another session:\n",
      "INFO:google.cloud.aiplatform.models:endpoint = aiplatform.Endpoint('projects/759220441436/locations/us-central1/endpoints/1759062473790455808')\n"
     ]
    },
    {
     "name": "stdout",
     "output_type": "stream",
     "text": [
      "sentimientos_datapath\n",
      "projects/759220441436/locations/us-central1/endpoints/1759062473790455808\n"
     ]
    }
   ],
   "source": [
    "endpoint = create_endpoint_sample(project= PROJECT_ID, \\\n",
    "                                    display_name= 'sentimientos_datapath', \\\n",
    "                                    location= REGION)"
   ]
  },
  {
   "cell_type": "code",
   "execution_count": 29,
   "id": "2f20990f-a825-471b-a7aa-e90fee3e869d",
   "metadata": {
    "tags": []
   },
   "outputs": [
    {
     "name": "stdout",
     "output_type": "stream",
     "text": [
      "Using endpoint [https://us-central1-aiplatform.googleapis.com/]\n",
      "ENDPOINT_ID          DISPLAY_NAME\n",
      "1759062473790455808  sentimientos_datapath\n"
     ]
    }
   ],
   "source": [
    "ENDPOINT_NAME = 'sentimientos_datapath'\n",
    "!gcloud ai endpoints list \\\n",
    "  --region=$REGION\\\n",
    "  --filter=display_name=$ENDPOINT_NAME"
   ]
  },
  {
   "cell_type": "code",
   "execution_count": 30,
   "id": "70e1e888-459a-4886-b7e8-3677125a04e6",
   "metadata": {
    "tags": []
   },
   "outputs": [
    {
     "name": "stdout",
     "output_type": "stream",
     "text": [
      "Collecting shap\n",
      "  Downloading shap-0.43.0-cp310-cp310-manylinux_2_12_x86_64.manylinux2010_x86_64.manylinux_2_17_x86_64.manylinux2014_x86_64.whl.metadata (24 kB)\n",
      "Requirement already satisfied: numpy in /opt/conda/lib/python3.10/site-packages (from shap) (1.26.2)\n",
      "Requirement already satisfied: scipy in /opt/conda/lib/python3.10/site-packages (from shap) (1.11.3)\n",
      "Requirement already satisfied: scikit-learn in /opt/conda/lib/python3.10/site-packages (from shap) (1.3.2)\n",
      "Requirement already satisfied: pandas in /opt/conda/lib/python3.10/site-packages (from shap) (2.0.3)\n",
      "Requirement already satisfied: tqdm>=4.27.0 in /opt/conda/lib/python3.10/site-packages (from shap) (4.66.1)\n",
      "Requirement already satisfied: packaging>20.9 in ./.local/lib/python3.10/site-packages (from shap) (21.3)\n",
      "Collecting slicer==0.0.7 (from shap)\n",
      "  Downloading slicer-0.0.7-py3-none-any.whl (14 kB)\n",
      "Requirement already satisfied: numba in /opt/conda/lib/python3.10/site-packages (from shap) (0.58.1)\n",
      "Requirement already satisfied: cloudpickle in ./.local/lib/python3.10/site-packages (from shap) (2.2.1)\n",
      "Requirement already satisfied: pyparsing!=3.0.5,>=2.0.2 in /opt/conda/lib/python3.10/site-packages (from packaging>20.9->shap) (3.1.1)\n",
      "Requirement already satisfied: llvmlite<0.42,>=0.41.0dev0 in /opt/conda/lib/python3.10/site-packages (from numba->shap) (0.41.1)\n",
      "Requirement already satisfied: python-dateutil>=2.8.2 in /opt/conda/lib/python3.10/site-packages (from pandas->shap) (2.8.2)\n",
      "Requirement already satisfied: pytz>=2020.1 in /opt/conda/lib/python3.10/site-packages (from pandas->shap) (2023.3.post1)\n",
      "Requirement already satisfied: tzdata>=2022.1 in /opt/conda/lib/python3.10/site-packages (from pandas->shap) (2023.3)\n",
      "Requirement already satisfied: joblib>=1.1.1 in /opt/conda/lib/python3.10/site-packages (from scikit-learn->shap) (1.3.2)\n",
      "Requirement already satisfied: threadpoolctl>=2.0.0 in /opt/conda/lib/python3.10/site-packages (from scikit-learn->shap) (3.2.0)\n",
      "Requirement already satisfied: six>=1.5 in /opt/conda/lib/python3.10/site-packages (from python-dateutil>=2.8.2->pandas->shap) (1.16.0)\n",
      "Downloading shap-0.43.0-cp310-cp310-manylinux_2_12_x86_64.manylinux2010_x86_64.manylinux_2_17_x86_64.manylinux2014_x86_64.whl (532 kB)\n",
      "\u001b[2K   \u001b[90m━━━━━━━━━━━━━━━━━━━━━━━━━━━━━━━━━━━━━━━━\u001b[0m \u001b[32m532.9/532.9 kB\u001b[0m \u001b[31m12.9 MB/s\u001b[0m eta \u001b[36m0:00:00\u001b[0m00:01\u001b[0m\n",
      "\u001b[?25hInstalling collected packages: slicer, shap\n",
      "Successfully installed shap-0.43.0 slicer-0.0.7\n"
     ]
    }
   ],
   "source": [
    "!pip install shap"
   ]
  },
  {
   "cell_type": "code",
   "execution_count": 31,
   "id": "4121f0ec-c109-4de2-b8ee-fdf4c1cf5a87",
   "metadata": {
    "tags": []
   },
   "outputs": [],
   "source": [
    "from typing import Dict, Sequence, Tuple\n",
    "#import shap.explain\n",
    "\n",
    "def deploy_model_with_dedicated_resources_sample(\n",
    "    project,\n",
    "    location,\n",
    "    model_name: str,\n",
    "    machine_type: str,\n",
    "    endpoint: Optional[aiplatform.Endpoint] = None,\n",
    "    deployed_model_display_name: Optional[str] = None,\n",
    "    traffic_percentage: Optional[int] = 0,\n",
    "    traffic_split: Optional[Dict[str, int]] = None,\n",
    "    min_replica_count: int = 1,\n",
    "    max_replica_count: int = 1,\n",
    "    accelerator_type: Optional[str] = None,\n",
    "    accelerator_count: Optional[int] = None,\n",
    "    #explanation_metadata: Optional[explain.ExplanationMetadata] = None,\n",
    "    #explanation_parameters: Optional[explain.ExplanationParameters] = None,\n",
    "    metadata: Optional[Sequence[Tuple[str, str]]] = (),\n",
    "    sync: bool = True,\n",
    "):\n",
    "    \"\"\"\n",
    "    model_name: A fully-qualified model resource name or model ID.\n",
    "          Example: \"projects/123/locations/us-central1/models/456\" or\n",
    "          \"456\" when project and location are initialized or passed.\n",
    "    \"\"\"\n",
    "\n",
    "    aiplatform.init(project=project, location=location)\n",
    "    print('model name: ', model_name)\n",
    "    model = aiplatform.Model(model_name=model_name)\n",
    "    #model = aiplatform.Model(display_name=model_name)\n",
    "    \n",
    "    # The explanation_metadata and explanation_parameters should only be\n",
    "    # provided for a custom trained model and not an AutoML model.\n",
    "    model.deploy(\n",
    "        endpoint=endpoint,\n",
    "        deployed_model_display_name=deployed_model_display_name,\n",
    "        traffic_percentage=traffic_percentage,\n",
    "        traffic_split=traffic_split,\n",
    "        machine_type=machine_type,\n",
    "        min_replica_count=min_replica_count,\n",
    "        max_replica_count=max_replica_count,\n",
    "        accelerator_type=accelerator_type,\n",
    "        accelerator_count=accelerator_count,\n",
    "        #explanation_metadata=explanation_metadata,\n",
    "        #explanation_parameters=explanation_parameters,\n",
    "        metadata=metadata,\n",
    "        sync=sync,\n",
    "    )\n",
    "    \n",
    "    model.wait()\n",
    "\n",
    "    print(model.display_name)\n",
    "    print(model.resource_name)\n",
    "    return model"
   ]
  },
  {
   "cell_type": "code",
   "execution_count": 33,
   "id": "a89de84c-dda5-4a3c-8757-fd576b32ede0",
   "metadata": {
    "tags": []
   },
   "outputs": [
    {
     "name": "stdout",
     "output_type": "stream",
     "text": [
      "model name:  1066805554896175104\n"
     ]
    },
    {
     "name": "stderr",
     "output_type": "stream",
     "text": [
      "INFO:google.cloud.aiplatform.models:Deploying model to Endpoint : projects/759220441436/locations/us-central1/endpoints/1759062473790455808\n",
      "INFO:google.cloud.aiplatform.models:Deploy Endpoint model backing LRO: projects/759220441436/locations/us-central1/endpoints/1759062473790455808/operations/6003071185414258688\n",
      "INFO:google.cloud.aiplatform.models:Endpoint model deployed. Resource name: projects/759220441436/locations/us-central1/endpoints/1759062473790455808\n"
     ]
    },
    {
     "name": "stdout",
     "output_type": "stream",
     "text": [
      "sentimientos_datapath\n",
      "projects/759220441436/locations/us-central1/models/1066805554896175104\n"
     ]
    },
    {
     "data": {
      "text/plain": [
       "<google.cloud.aiplatform.models.Model object at 0x7fd5a5c31030> \n",
       "resource name: projects/759220441436/locations/us-central1/models/1066805554896175104"
      ]
     },
     "execution_count": 33,
     "metadata": {},
     "output_type": "execute_result"
    }
   ],
   "source": [
    "deploy_model_with_dedicated_resources_sample(\n",
    "    project=PROJECT_ID, \\\n",
    "    location=REGION, \\\n",
    "    model_name= name_model_registry, \\\n",
    "    machine_type='n1-standard-2', \\\n",
    "    endpoint= endpoint, \\\n",
    "    deployed_model_display_name='sentimientos_datapath_endpoint', \\\n",
    "    #traffic_percentage: Optional[int] = 0,\n",
    "    #traffic_split: Optional[Dict[str, int]] = None,\n",
    "    min_replica_count= 1, \\\n",
    "    max_replica_count= 1\n",
    "    )"
   ]
  },
  {
   "cell_type": "code",
   "execution_count": 34,
   "id": "b9f7f6ee-6cca-48ca-8573-e9220bc716b4",
   "metadata": {
    "tags": []
   },
   "outputs": [],
   "source": [
    "def endpoint_predict_sample(\n",
    "    project: str, location: str, instances: list, endpoint: str\n",
    "):\n",
    "    aiplatform.init(project=project, location=location)\n",
    "\n",
    "    endpoint = aiplatform.Endpoint(endpoint)\n",
    "\n",
    "    prediction = endpoint.predict(instances=instances)\n",
    "    print(prediction)\n",
    "    return prediction"
   ]
  },
  {
   "cell_type": "code",
   "execution_count": 35,
   "id": "4afc0954-a626-40d1-be95-27decf5882be",
   "metadata": {
    "tags": []
   },
   "outputs": [
    {
     "name": "stdout",
     "output_type": "stream",
     "text": [
      "1759062473790455808\n"
     ]
    }
   ],
   "source": [
    "print(endpoint.name)"
   ]
  },
  {
   "cell_type": "code",
   "execution_count": null,
   "id": "dcb9e61d-fbcb-494c-93b2-5c67f2372623",
   "metadata": {},
   "outputs": [],
   "source": []
  },
  {
   "cell_type": "code",
   "execution_count": 38,
   "id": "adffbee5-5f83-4c45-a6a3-5587b32a2239",
   "metadata": {
    "tags": []
   },
   "outputs": [],
   "source": [
    "import numpy as np"
   ]
  },
  {
   "cell_type": "code",
   "execution_count": 39,
   "id": "94261ed3-bdb8-45e3-a75c-4f19efde2852",
   "metadata": {
    "tags": []
   },
   "outputs": [],
   "source": [
    "input_data = np.array([[\n",
    "    0, 0, 0, 0, 0, 0, 0, 0, 0, 0, 0, 0, 0, 0, \n",
    "    0, 0, 0, 0, 0, 0, 0, 0, 0, 0, 0, 0, 0, 0,\n",
    "    0, 0, 0, 0, 0, 0, 0, 0, 0, 0, 0, 0, 0, 0,\n",
    "    0, 0, 0, 0, 0, 0, 0, 0, 0, 0, 0, 0, 0, 0,\n",
    "    0, 0, 0, 0, 0, 0, 0, 0, 0, 0, 0, 0, 0, 0,\n",
    "    0, 0, 0, 0, 0, 0, 0, 0, 0, 0, 0, 0, 0, 0,\n",
    "    0, 0, 0, 0, 0, 0, 0, 0, 0, 0, 0, 0, 0, 0,\n",
    "    0, 0, 0, 0, 0, 0, 0, 0, 0, 0, 0, 0, 0, 0,\n",
    "    0, 0, 0, 0, 0, 0, 0, 0, 0, 0, 0, 0, 0, 0,\n",
    "    0, 0, 0, 0, 0, 0, 0, 0, 0, 0, 0, 0, 0, 0,\n",
    "    0, 0, 0, 0, 0, 0, 0, 0, 0, 0, 0, 0, 0, 0,\n",
    "    0, 0, 0, 0, 0, 0, 0, 0, 0, 0, 0, 0, 0, 0,\n",
    "    0, 0, 0, 0, 0, 0, 0, 0, 0, 0, 0, 0, 0, 0,\n",
    "    0, 0, 0, 0, 0, 0, 0, 0, 0, 0, 0, 52, 0, 1,\n",
    "    1641, 8, 11, 3753\n",
    "]])"
   ]
  },
  {
   "cell_type": "code",
   "execution_count": 41,
   "id": "4d1b04d8-21ea-4320-b0a1-1e028b7cf7f6",
   "metadata": {
    "tags": []
   },
   "outputs": [
    {
     "name": "stdout",
     "output_type": "stream",
     "text": [
      "Prediction(predictions=[[0.586094499]], deployed_model_id='3228243104964280320', model_version_id='1', model_resource_name='projects/759220441436/locations/us-central1/models/1066805554896175104', explanations=None)\n"
     ]
    }
   ],
   "source": [
    "# Convierte el array de NumPy en una lista de Python\n",
    "instances = input_data.tolist()\n",
    "\n",
    "# Ahora puedes pasar 'instances' a la función de predicción\n",
    "response = endpoint_predict_sample(\n",
    "    project=PROJECT_ID,\n",
    "    location=REGION,\n",
    "    instances=instances,  # Asegúrate de pasar la lista aquí\n",
    "    endpoint=endpoint.name\n",
    ")\n"
   ]
  },
  {
   "cell_type": "code",
   "execution_count": 42,
   "id": "f5db4461-d151-40bd-a54f-b1c46b9bcfc8",
   "metadata": {
    "tags": []
   },
   "outputs": [
    {
     "name": "stdout",
     "output_type": "stream",
     "text": [
      "Predicción del Endpoint: \n",
      " [[0.586094499]]\n"
     ]
    }
   ],
   "source": [
    "print(\"Predicción del Endpoint: \\n\", response.predictions)"
   ]
  },
  {
   "cell_type": "code",
   "execution_count": 43,
   "id": "1c70997e-5ade-488f-a9f8-d9432a11449d",
   "metadata": {
    "tags": []
   },
   "outputs": [
    {
     "name": "stdout",
     "output_type": "stream",
     "text": [
      "[[   0    0    0    0    0    0    0    0    0    0    0    0    0    0\n",
      "     0    0    0    0    0    0    0    0    0    0    0    0    0    0\n",
      "     0    0    0    0    0    0    0    0    0    0    0    0    0    0\n",
      "     0    0    0    0    0    0    0    0    0    0    0    0    0    0\n",
      "     0    0    0    0    0    0    0    0    0    0    0    0    0    0\n",
      "     0    0    0    0    0    0    0    0    0    0    0    0    0    0\n",
      "     0    0    0    0    0    0    0    0    0    0    0    0    0    0\n",
      "     0    0    0    0    0    0    0    0    0    0    0    0    0    0\n",
      "     0    0    0    0    0    0    0    0    0    0    0    0    0    0\n",
      "     0    0    0    0    0    0    0    0    0    0    0    0    0    0\n",
      "     0    0    0    0    0    0    0    0    0    0    0    0    0    0\n",
      "     0    0    0    0    0    0    0    0    0    0    0    0    0    0\n",
      "     0    0    0    0    0    0    0    0    0    0    0    0    0    0\n",
      "     0    0    0    0    0    0    0    0    0    0   11   17    6 2916\n",
      "    10   89   37    9]]\n"
     ]
    }
   ],
   "source": [
    "from tensorflow.keras.models import load_model\n",
    "from tensorflow.keras.preprocessing.sequence import pad_sequences\n",
    "from tensorflow.keras.datasets import imdb\n",
    "\n",
    "max_features = 5000  # Número máximo de palabras a considerar como características\n",
    "max_len = 200  # Longitud máxima de la secuencia de texto\n",
    "\n",
    "# Cargar el word_index\n",
    "word_index = imdb.get_word_index()\n",
    "\n",
    "# Función para convertir texto a secuencia\n",
    "def text_to_sequence(text, word_index, max_features, max_len):\n",
    "    tokens = text.lower().split()\n",
    "    sequence = [word_index.get(word, 0) if word_index.get(word, 0) < max_features else 0 for word in tokens]\n",
    "    padded_sequence = pad_sequences([sequence], maxlen=max_len)\n",
    "    return padded_sequence\n",
    "\n",
    "# Texto de entrada para la predicción\n",
    "sample_review = \"this movie is bitter I don't like it\"\n",
    "\n",
    "# Convertir el texto en secuencia\n",
    "sample_sequence = text_to_sequence(sample_review, word_index, max_features, max_len)\n",
    "print(sample_sequence)"
   ]
  },
  {
   "cell_type": "code",
   "execution_count": 44,
   "id": "3f87c676-2bab-42b5-88a5-dfc5dc42e14a",
   "metadata": {
    "tags": []
   },
   "outputs": [
    {
     "name": "stdout",
     "output_type": "stream",
     "text": [
      "Prediction(predictions=[[0.304122239]], deployed_model_id='3228243104964280320', model_version_id='1', model_resource_name='projects/759220441436/locations/us-central1/models/1066805554896175104', explanations=None)\n"
     ]
    }
   ],
   "source": [
    "instances = sample_sequence.tolist()\n",
    "\n",
    "# Ahora puedes pasar 'instances' a la función de predicción\n",
    "response = endpoint_predict_sample(\n",
    "    project=PROJECT_ID,\n",
    "    location=REGION,\n",
    "    instances=instances,  # Asegúrate de pasar la lista aquí\n",
    "    endpoint=endpoint.name\n",
    ")"
   ]
  },
  {
   "cell_type": "code",
   "execution_count": 45,
   "id": "6522dc0b-1f53-47c6-b90e-4ce882c9d6aa",
   "metadata": {
    "tags": []
   },
   "outputs": [
    {
     "name": "stdout",
     "output_type": "stream",
     "text": [
      "Predicción del Endpoint: \n",
      " [[0.304122239]]\n"
     ]
    }
   ],
   "source": [
    "print(\"Predicción del Endpoint: \\n\", response.predictions)"
   ]
  },
  {
   "cell_type": "code",
   "execution_count": null,
   "id": "cf2f5dac-c82e-4fa9-92b4-8ad2fb74c887",
   "metadata": {},
   "outputs": [],
   "source": []
  },
  {
   "cell_type": "code",
   "execution_count": null,
   "id": "4636c6a4-47a4-4272-b2e8-daf981feb3af",
   "metadata": {},
   "outputs": [],
   "source": []
  }
 ],
 "metadata": {
  "environment": {
   "kernel": "conda-root-py",
   "name": "workbench-notebooks.m113",
   "type": "gcloud",
   "uri": "gcr.io/deeplearning-platform-release/workbench-notebooks:m113"
  },
  "kernelspec": {
   "display_name": "Python 3 (ipykernel) (Local)",
   "language": "python",
   "name": "conda-root-py"
  },
  "language_info": {
   "codemirror_mode": {
    "name": "ipython",
    "version": 3
   },
   "file_extension": ".py",
   "mimetype": "text/x-python",
   "name": "python",
   "nbconvert_exporter": "python",
   "pygments_lexer": "ipython3",
   "version": "3.10.13"
  }
 },
 "nbformat": 4,
 "nbformat_minor": 5
}
